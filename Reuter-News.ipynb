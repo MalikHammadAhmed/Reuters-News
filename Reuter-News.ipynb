{
 "cells": [
  {
   "cell_type": "code",
   "execution_count": 2,
   "metadata": {},
   "outputs": [],
   "source": [
    "import tensorflow as tf"
   ]
  },
  {
   "cell_type": "code",
   "execution_count": 3,
   "metadata": {},
   "outputs": [],
   "source": [
    "from tensorflow.keras.datasets import reuters"
   ]
  },
  {
   "cell_type": "code",
   "execution_count": 4,
   "metadata": {},
   "outputs": [],
   "source": [
    "from tensorflow.keras import models,layers,optimizers,utils"
   ]
  },
  {
   "cell_type": "code",
   "execution_count": 5,
   "metadata": {},
   "outputs": [],
   "source": [
    ", metricsimport numpy as np"
   ]
  },
  {
   "cell_type": "code",
   "execution_count": 6,
   "metadata": {},
   "outputs": [],
   "source": [
    "from tensorflow.keras.datasets import reuters"
   ]
  },
  {
   "cell_type": "code",
   "execution_count": 7,
   "metadata": {},
   "outputs": [
    {
     "name": "stdout",
     "output_type": "stream",
     "text": [
      "Downloading data from https://storage.googleapis.com/tensorflow/tf-keras-datasets/reuters.npz\n",
      "2113536/2110848 [==============================] - 3s 1us/step\n",
      "2121728/2110848 [==============================] - 3s 1us/step\n"
     ]
    }
   ],
   "source": [
    "(train_data, train_labels),(test_data, test_labels) = reuters.load_data(num_words=10000)"
   ]
  },
  {
   "cell_type": "code",
   "execution_count": 16,
   "metadata": {},
   "outputs": [],
   "source": [
    "def vectorize_sequences(sequences, dimension=10000):\n",
    "    results=np.zeros((len(sequences), dimension))\n",
    "    for i, sequence in enumerate(sequences):\n",
    "        results[i,sequence]=1.\n",
    "    return results\n",
    "\n",
    "x_train = vectorize_sequences(train_data)\n",
    "x_test = vectorize_sequences(test_data)\n",
    "    "
   ]
  },
  {
   "cell_type": "code",
   "execution_count": 17,
   "metadata": {},
   "outputs": [],
   "source": [
    "one_hot_train_labels = utils.to_categorical(train_labels)\n",
    "one_hot_test_labels = utils.to_categorical(test_labels)"
   ]
  },
  {
   "cell_type": "code",
   "execution_count": 24,
   "metadata": {},
   "outputs": [],
   "source": [
    "x_val = x_train[:1000]\n",
    "x_partial_train = x_train[1000:]\n",
    "\n",
    "y_val = one_hot_train_labels[:1000]\n",
    "y_partial_train = one_hot_train_labels[1000:]"
   ]
  },
  {
   "cell_type": "code",
   "execution_count": 25,
   "metadata": {},
   "outputs": [],
   "source": [
    "model = models.Sequential()\n",
    "model.add(layers.Dense(64,activation='relu', input_shape=(10000,)))\n",
    "model.add(layers.Dense(64,activation='relu'))\n",
    "model.add(layers.Dense(46,activation='softmax'))"
   ]
  },
  {
   "cell_type": "code",
   "execution_count": 26,
   "metadata": {},
   "outputs": [
    {
     "name": "stdout",
     "output_type": "stream",
     "text": [
      "Epoch 1/20\n",
      "16/16 [==============================] - 2s 48ms/step - loss: 2.5601 - acc: 0.5390 - val_loss: 1.6854 - val_acc: 0.6580\n",
      "Epoch 2/20\n",
      "16/16 [==============================] - 1s 37ms/step - loss: 1.3631 - acc: 0.7166 - val_loss: 1.2660 - val_acc: 0.7250\n",
      "Epoch 3/20\n",
      "16/16 [==============================] - 1s 37ms/step - loss: 1.0055 - acc: 0.7839 - val_loss: 1.0975 - val_acc: 0.7540\n",
      "Epoch 4/20\n",
      "16/16 [==============================] - 1s 37ms/step - loss: 0.7939 - acc: 0.8321 - val_loss: 1.0283 - val_acc: 0.7720\n",
      "Epoch 5/20\n",
      "16/16 [==============================] - 1s 37ms/step - loss: 0.6324 - acc: 0.8672 - val_loss: 0.9538 - val_acc: 0.8090\n",
      "Epoch 6/20\n",
      "16/16 [==============================] - 1s 37ms/step - loss: 0.5080 - acc: 0.8953 - val_loss: 0.9347 - val_acc: 0.8010\n",
      "Epoch 7/20\n",
      "16/16 [==============================] - 1s 38ms/step - loss: 0.4095 - acc: 0.9153 - val_loss: 0.8878 - val_acc: 0.8170\n",
      "Epoch 8/20\n",
      "16/16 [==============================] - 1s 38ms/step - loss: 0.3339 - acc: 0.9293 - val_loss: 0.9052 - val_acc: 0.8040\n",
      "Epoch 9/20\n",
      "16/16 [==============================] - 1s 36ms/step - loss: 0.2752 - acc: 0.9399 - val_loss: 0.8888 - val_acc: 0.8180\n",
      "Epoch 10/20\n",
      "16/16 [==============================] - 1s 37ms/step - loss: 0.2372 - acc: 0.9446 - val_loss: 0.8890 - val_acc: 0.8180\n",
      "Epoch 11/20\n",
      "16/16 [==============================] - 1s 36ms/step - loss: 0.2014 - acc: 0.9493 - val_loss: 0.9325 - val_acc: 0.8100\n",
      "Epoch 12/20\n",
      "16/16 [==============================] - 1s 36ms/step - loss: 0.1789 - acc: 0.9514 - val_loss: 0.9402 - val_acc: 0.8130\n",
      "Epoch 13/20\n",
      "16/16 [==============================] - 1s 37ms/step - loss: 0.1597 - acc: 0.9539 - val_loss: 0.9682 - val_acc: 0.8040\n",
      "Epoch 14/20\n",
      "16/16 [==============================] - 1s 38ms/step - loss: 0.1495 - acc: 0.9557 - val_loss: 0.9776 - val_acc: 0.8220\n",
      "Epoch 15/20\n",
      "16/16 [==============================] - 1s 37ms/step - loss: 0.1372 - acc: 0.9553 - val_loss: 0.9711 - val_acc: 0.8100\n",
      "Epoch 16/20\n",
      "16/16 [==============================] - 1s 37ms/step - loss: 0.1282 - acc: 0.9573 - val_loss: 1.0119 - val_acc: 0.8120\n",
      "Epoch 17/20\n",
      "16/16 [==============================] - 1s 37ms/step - loss: 0.1227 - acc: 0.9554 - val_loss: 1.1615 - val_acc: 0.7740\n",
      "Epoch 18/20\n",
      "16/16 [==============================] - 1s 37ms/step - loss: 0.1201 - acc: 0.9574 - val_loss: 1.0538 - val_acc: 0.8010\n",
      "Epoch 19/20\n",
      "16/16 [==============================] - 1s 37ms/step - loss: 0.1114 - acc: 0.9565 - val_loss: 1.1071 - val_acc: 0.7920\n",
      "Epoch 20/20\n",
      "16/16 [==============================] - 1s 36ms/step - loss: 0.1113 - acc: 0.9574 - val_loss: 1.0810 - val_acc: 0.8080\n"
     ]
    }
   ],
   "source": [
    "model.compile(optimizer='rmsprop', loss='categorical_crossentropy', metrics=['acc'])\n",
    "history=model.fit(x_partial_train, y_partial_train, epochs=20, batch_size=512, validation_data=(x_val, y_val))"
   ]
  },
  {
   "cell_type": "code",
   "execution_count": null,
   "metadata": {},
   "outputs": [],
   "source": []
  }
 ],
 "metadata": {
  "kernelspec": {
   "display_name": "Python 3",
   "language": "python",
   "name": "python3"
  },
  "language_info": {
   "codemirror_mode": {
    "name": "ipython",
    "version": 3
   },
   "file_extension": ".py",
   "mimetype": "text/x-python",
   "name": "python",
   "nbconvert_exporter": "python",
   "pygments_lexer": "ipython3",
   "version": "3.8.10"
  }
 },
 "nbformat": 4,
 "nbformat_minor": 4
}
